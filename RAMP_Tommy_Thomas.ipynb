{
 "cells": [
  {
   "cell_type": "markdown",
   "metadata": {},
   "source": [
    "# Airlane Passengers Load Prediction - RAMP\n"
   ]
  },
  {
   "cell_type": "markdown",
   "metadata": {},
   "source": [
    "![title](cover.png)\n",
    "<br>\n",
    "\n",
    "## Table of contents\n",
    "[1. Context and objective](#section1)\n",
    "\n",
    "[2. Exploring the datasets (EDA)](#section2)\n",
    "\n",
    "* [A. Structure of the datasets](##section2A)\n",
    "* [B. Data cleaning and preprocessing](##section2B)\n",
    "\n",
    "\n",
    "[3. Prediction](#section3)\n",
    "* [A. Preparing the training dataset](##section3A)\n",
    "* [B. Selecting and hyper tuning the models](##section3B)\n",
    "\n",
    "[4. Conclusion and next steps](#section3)\n",
    "\n",
    "<br>\n",
    "\n",
    "<a id=\"Section1\"></a>\n",
    "## 1. Context and objective\n",
    "\n",
    "This notebook is our final project for the class [MAP536P - Python for Data Science](https://moodle.polytechnique.fr/course/view.php?id=6124).\n",
    "\n",
    "The objective is to **forecast airplane passengers load** in the United States. "
   ]
  },
  {
   "cell_type": "markdown",
   "metadata": {},
   "source": [
    "## 2. Dataset Exploration and Feature Engineering"
   ]
  },
  {
   "cell_type": "code",
   "execution_count": null,
   "metadata": {},
   "outputs": [],
   "source": []
  },
  {
   "cell_type": "code",
   "execution_count": null,
   "metadata": {},
   "outputs": [],
   "source": []
  }
 ],
 "metadata": {
  "kernelspec": {
   "display_name": "Python 3",
   "language": "python",
   "name": "python3"
  },
  "language_info": {
   "codemirror_mode": {
    "name": "ipython",
    "version": 3
   },
   "file_extension": ".py",
   "mimetype": "text/x-python",
   "name": "python",
   "nbconvert_exporter": "python",
   "pygments_lexer": "ipython3",
   "version": "3.7.3"
  },
  "toc": {
   "base_numbering": 1,
   "nav_menu": {},
   "number_sections": true,
   "sideBar": true,
   "skip_h1_title": false,
   "title_cell": "Table of Contents",
   "title_sidebar": "Contents",
   "toc_cell": false,
   "toc_position": {},
   "toc_section_display": true,
   "toc_window_display": false
  }
 },
 "nbformat": 4,
 "nbformat_minor": 2
}
